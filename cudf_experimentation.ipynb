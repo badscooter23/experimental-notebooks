{
 "cells": [
  {
   "cell_type": "code",
   "execution_count": 2,
   "metadata": {},
   "outputs": [],
   "source": [
    "import cudf\n",
    "import os\n",
    "import time\n",
    "import datetime\n",
    "import pandas"
   ]
  },
  {
   "cell_type": "code",
   "execution_count": 3,
   "metadata": {},
   "outputs": [
    {
     "name": "stdout",
     "output_type": "stream",
     "text": [
      "data directory: /home/badscooter23/datasets\n"
     ]
    }
   ],
   "source": [
    "home_dir = os.path.expanduser(\"~\")\n",
    "data_dir = os.path.join(home_dir, \"datasets\")\n",
    "print(\"data directory: {}\".format(data_dir))"
   ]
  },
  {
   "cell_type": "code",
   "execution_count": null,
   "metadata": {},
   "outputs": [],
   "source": [
    "def get_csv_files(directory):\n",
    "    csv_files = []\n",
    "    for entry in os.scandir(directory):\n",
    "        if entry.is_dir(follow_symlinks=False):\n",
    "            sub_dir_csv_files = get_csv_files(entry)\n",
    "            for sub_dir_csv_file in sub_dir_csv_files:\n",
    "                csv_files.append(sub_dir_csv_file)\n",
    "            \n",
    "        elif entry.path.endswith(\".csv\"):\n",
    "            # print(\".csv\")\n",
    "            csv_files.append(entry)\n",
    "\n",
    "    return csv_files\n",
    " "
   ]
  },
  {
   "cell_type": "code",
   "execution_count": null,
   "metadata": {},
   "outputs": [],
   "source": [
    "biggest_size = 0\n",
    "\n",
    "for csv_file in get_csv_files(data_dir):\n",
    "    csv_file_name = csv_file.path\n",
    "    csv_file_size = csv_file.stat(follow_symlinks=False).st_size\n",
    "    print(\"file: {}, size: {} (bytes)\".format(csv_file_name, csv_file_size))\n",
    "    if csv_file_size > biggest_size:\n",
    "        biggest_size = csv_file_size\n",
    "        biggest_file = csv_file\n",
    "        \n",
    "print(\"\\nbiggest file: {}\".format(biggest_file.path))\n",
    "print(\"size: {} (bytes)\".format(biggest_size))\n",
    "        \n",
    "        \n",
    "        \n",
    "\n",
    "   \n",
    "    "
   ]
  },
  {
   "cell_type": "code",
   "execution_count": null,
   "metadata": {},
   "outputs": [],
   "source": [
    "start_time = time.time()\n",
    "gpu_df = cudf.read_csv(biggest_file.path)\n",
    "gpu_read_time = time.time() - start_time"
   ]
  },
  {
   "cell_type": "code",
   "execution_count": null,
   "metadata": {},
   "outputs": [],
   "source": [
    "start_time = time.time()\n",
    "pd_df = pandas.read_csv(biggest_file.path)\n",
    "pd_read_time = time.time() - start_time"
   ]
  },
  {
   "cell_type": "code",
   "execution_count": null,
   "metadata": {},
   "outputs": [],
   "source": [
    "def ratio(gpu_time, pandas_time):\n",
    "    return pandas_time / gpu_time\n"
   ]
  },
  {
   "cell_type": "code",
   "execution_count": null,
   "metadata": {},
   "outputs": [],
   "source": [
    "print(\"GPU is {}x faster (or slower)...\".format(round(ratio(gpu_read_time, pd_read_time), 2)))"
   ]
  },
  {
   "cell_type": "code",
   "execution_count": null,
   "metadata": {},
   "outputs": [],
   "source": [
    "def equivalent_to_n(gpu_calculated_value, pd_calculated_value):\n",
    "    \n",
    "    MAX_N = 30\n",
    "    for digits in range(1,MAX_N):\n",
    "        # print(digits)\n",
    "        \n",
    "        g = round(gpu_calculated_value,digits) \n",
    "        p = round(pd_calculated_value, digits)\n",
    "        \n",
    "        if g != p:\n",
    "            break\n",
    "            \n",
    "    return digits-1\n"
   ]
  },
  {
   "cell_type": "code",
   "execution_count": null,
   "metadata": {},
   "outputs": [],
   "source": [
    "print(equivalent_to_n(3.141516, 3.141520))"
   ]
  },
  {
   "cell_type": "code",
   "execution_count": null,
   "metadata": {},
   "outputs": [],
   "source": [
    "gpu_df.head()"
   ]
  },
  {
   "cell_type": "code",
   "execution_count": null,
   "metadata": {
    "scrolled": true
   },
   "outputs": [],
   "source": [
    "gpu_df.columns"
   ]
  },
  {
   "cell_type": "code",
   "execution_count": null,
   "metadata": {},
   "outputs": [],
   "source": [
    "start_time = time.time()\n",
    "gpu_sum = []\n",
    "for c in gpu_df.columns:\n",
    "    if c == 'image_id':\n",
    "        gpu_sum.append(0)\n",
    "    else:\n",
    "        gpu_sum.append(gpu_df[c].sum())\n",
    "gpu_sum_time = time.time() - start_time\n",
    "    "
   ]
  },
  {
   "cell_type": "code",
   "execution_count": null,
   "metadata": {},
   "outputs": [],
   "source": [
    "start_time = time.time()\n",
    "pd_sum = []\n",
    "for c in pd_df.columns:\n",
    "    if c == 'image_id':\n",
    "        pd_sum.append(0)\n",
    "    else:\n",
    "        pd_sum.append(pd_df[c].sum())\n",
    "pd_sum_time = time.time() - start_time\n"
   ]
  },
  {
   "cell_type": "code",
   "execution_count": null,
   "metadata": {},
   "outputs": [],
   "source": [
    "print(\"GPU is {}x faster (or slower)...\".format(round(ratio(gpu_sum_time, pd_sum_time), 2)))"
   ]
  },
  {
   "cell_type": "code",
   "execution_count": null,
   "metadata": {},
   "outputs": [],
   "source": [
    "print(len(pd_sum)==len(gpu_sum))\n",
    "print(len(pd_sum)==pd_df.shape[1])\n",
    "print(pd_df.shape)\n",
    "print(len(gpu_sum)==gpu_df.shape[1])\n",
    "print(gpu_df.shape)"
   ]
  },
  {
   "cell_type": "code",
   "execution_count": null,
   "metadata": {},
   "outputs": [],
   "source": [
    "for i in range(0,len(gpu_sum)):\n",
    "    print(\"equal: {}, cudf sum: {} pandas sum: {}\".format(gpu_sum[i]==pd_sum[i],gpu_sum[i], pd_sum[i]))"
   ]
  },
  {
   "cell_type": "code",
   "execution_count": null,
   "metadata": {},
   "outputs": [],
   "source": []
  }
 ],
 "metadata": {
  "kernelspec": {
   "display_name": "Python 3",
   "language": "python",
   "name": "python3"
  },
  "language_info": {
   "codemirror_mode": {
    "name": "ipython",
    "version": 3
   },
   "file_extension": ".py",
   "mimetype": "text/x-python",
   "name": "python",
   "nbconvert_exporter": "python",
   "pygments_lexer": "ipython3",
   "version": "3.7.6"
  }
 },
 "nbformat": 4,
 "nbformat_minor": 2
}
