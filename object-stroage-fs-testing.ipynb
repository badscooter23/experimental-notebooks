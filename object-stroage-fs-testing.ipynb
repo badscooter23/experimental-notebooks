{
 "cells": [
  {
   "cell_type": "code",
   "execution_count": 25,
   "metadata": {},
   "outputs": [],
   "source": [
    "import s3fs\n",
    "import os\n",
    "from minio import Minio\n",
    "from minio import ResponseError"
   ]
  },
  {
   "cell_type": "markdown",
   "metadata": {},
   "source": [
    "## Some useful utility funcitons\n",
    "<br>\n",
    "\n",
    "#### print_n_buckets(client [, N=10])\n",
    "Prints first N (default=10) buckets in client...\n",
    "\n",
    "\n",
    "#### find_csv_file(client, bucket [, prefix=''\" [, recursive=False]]\n",
    "Returns list of object names which end in .csv (essentially objects matching /client/bucket/[prefix]/*.csv). \n",
    "<br>By defaault:\n",
    "* prefix is '' (matching all prefixes)\n",
    "* recursive is False (implying find_csv_file will not traverse sub-folders under /client/bucket/prefix)\n",
    "\n"
   ]
  },
  {
   "cell_type": "code",
   "execution_count": 3,
   "metadata": {},
   "outputs": [],
   "source": [
    "def print_n_buckets(minio_client, N=10):\n",
    "    # get list of buckets...\n",
    "    try:\n",
    "        buckets = minio_client.list_buckets()\n",
    "    except exception as msg:\n",
    "        print(\"Problem with client...\")\n",
    "        print(msg)\n",
    "        return\n",
    "    \n",
    "    # print N bucket names\n",
    "    count = 0\n",
    "    how_many = len(buckets)\n",
    "    print(\"Found {} buckets ...\".format(how_many))\n",
    "    for b in buckets:\n",
    "        count += 1\n",
    "        if count > N:\n",
    "            break\n",
    "        print(b.name)    \n",
    "    if how_many > N:\n",
    "        print(\"... (+{} more)\".format(how_many-N))\n",
    "        \n",
    "        \n",
    "def find_csv_files(minio_client, bucket, prefix='', recursive=True):\n",
    "    csv_files = []\n",
    "    \n",
    "    try: \n",
    "        if not minio_client.bucket_exists(bucket):\n",
    "            print(\"ERROR: Bucket '{}' does not exist...\".format(bucket))\n",
    "            return csv_files\n",
    "    except:\n",
    "        print(\"ERROR: Problem with client...\")\n",
    "        print(msg)\n",
    "        return csv_files\n",
    "        \n",
    "    # get list of buckets...\n",
    "    try:\n",
    "        objects = minio_client.list_objects(bucket, prefix, recursive)\n",
    "    except exception as msg:\n",
    "        print(\"ERROR: Problem with client...\")\n",
    "        print(msg)\n",
    "        return csv_files\n",
    "    \n",
    "    # look for .csf 'files'...\n",
    "    for o in objects:\n",
    "        if o.object_name.endswith('.csv'):\n",
    "            csv_files.append(o.object_name)\n",
    "            \n",
    "    return csv_files\n",
    "                \n",
    "    "
   ]
  },
  {
   "cell_type": "code",
   "execution_count": 6,
   "metadata": {},
   "outputs": [],
   "source": [
    "myminio_endpoint = \"10.1.80.0:9000\"\n",
    "myminio_access_key = \"minioadmin\"\n",
    "myminio_secret_key = \"minioadmin\"\n",
    "myminio_secure = False"
   ]
  },
  {
   "cell_type": "code",
   "execution_count": 8,
   "metadata": {},
   "outputs": [
    {
     "name": "stdout",
     "output_type": "stream",
     "text": [
      "Found 1 buckets ...\n",
      "celeba-dataset\n"
     ]
    }
   ],
   "source": [
    "myminio_client = Minio(myminio_endpoint, myminio_access_key, myminio_secret_key, secure=False)\n",
    "print_n_buckets(myminio_client)\n"
   ]
  },
  {
   "cell_type": "code",
   "execution_count": 111,
   "metadata": {},
   "outputs": [
    {
     "name": "stdout",
     "output_type": "stream",
     "text": [
      "celeba-dataset/list_attr_celeba.csv\n",
      "celeba-dataset/list_bbox_celeba.csv\n",
      "celeba-dataset/list_eval_partition.csv\n",
      "celeba-dataset/list_landmarks_align_celeba.csv\n"
     ]
    }
   ],
   "source": [
    "for b in myminio_client.list_buckets():\n",
    "    csv_files = find_csv_files(myminio_client, b.name, '', False)\n",
    "    for csv_file in csv_files:\n",
    "        print(\"{}/{}\".format(b.name, csv_file))\n"
   ]
  },
  {
   "cell_type": "code",
   "execution_count": 9,
   "metadata": {},
   "outputs": [],
   "source": [
    "play_endpoint = \"play.minio.io\"\n",
    "play_access_key = \"Q3AM3UQ867SPQQA43P2F\"\n",
    "play_secret_key = \"zuf+tfteSlswRu7BJ86wekitnifILbZam1KYY3TG\"\n",
    "play_secure = False"
   ]
  },
  {
   "cell_type": "code",
   "execution_count": 10,
   "metadata": {},
   "outputs": [],
   "source": [
    "play_client = Minio(play_endpoint, access_key=play_access_key, secret_key=play_secret_key, secure=play_secure )"
   ]
  },
  {
   "cell_type": "code",
   "execution_count": 11,
   "metadata": {},
   "outputs": [
    {
     "name": "stdout",
     "output_type": "stream",
     "text": [
      "Found 185 buckets ...\n",
      "00test\n",
      "123-123-123-123-123-123-123\n",
      "2063b651-92a3-4a20-a4a5-03a96e7c5a89\n",
      "5433590004825c02f3d9c8678682ec2a\n",
      "58a1a091-df26-43ea-9909-c659617d2034\n",
      "5ad99bcb-13c2-40ff-926d-53d29fe16fff\n",
      "5bvn4zo6h31c74926dxe4kxbx5dvg5in\n",
      "7c0d0243-73d3-4bb0-9485-f454e8df17df\n",
      "a-test-1\n",
      "aicg7t2\n",
      "... (+175 more)\n"
     ]
    }
   ],
   "source": [
    "print_n_buckets(play_client, 10)"
   ]
  },
  {
   "cell_type": "code",
   "execution_count": 12,
   "metadata": {},
   "outputs": [
    {
     "name": "stdout",
     "output_type": "stream",
     "text": [
      "bucket heihei...\n",
      "heihei/Parking_Citations.csv\n",
      "bucket testbucket3...\n",
      "testbucket3/customer.csv\n"
     ]
    }
   ],
   "source": [
    "for b in play_client.list_buckets():\n",
    "    if not b.name.startswith(\"\"):\n",
    "        continue\n",
    "\n",
    "    csv_files = find_csv_files(play_client, b.name, '', False)\n",
    "    if len(csv_files):\n",
    "        print(\"bucket {}...\".format(b.name))\n",
    "        for csv_file in csv_files:\n",
    "            print(\"{}/{}\".format(b.name, csv_file))"
   ]
  },
  {
   "cell_type": "code",
   "execution_count": 13,
   "metadata": {},
   "outputs": [
    {
     "name": "stdout",
     "output_type": "stream",
     "text": [
      "testbucket3/customer.csv is 779474 bytes\n"
     ]
    }
   ],
   "source": [
    "bucket_name = 'testbucket3'\n",
    "object_name = 'customer.csv'\n",
    "\n",
    "o = play_client.stat_object(bucket_name, object_name)\n",
    "print(\"{}/{} is {} bytes\".format(bucket_name, object_name, o.size))\n"
   ]
  },
  {
   "cell_type": "code",
   "execution_count": 18,
   "metadata": {},
   "outputs": [
    {
     "name": "stdout",
     "output_type": "stream",
     "text": [
      "1;Van Buren;753 Monroe Street;Boston;33347;WI;05-137-1962;634-608-1829\n",
      "\n",
      "2;Lincoln;492 3/4 North Preisker Lane;Helena;72262;CT;09-257-1976;277-955-3440\n",
      "\n",
      "3;Taylor;140 Via Real;Topeka;80777;FL;08-238-1995;324-301-2565\n",
      "\n",
      "4;Adams;920 Jean de la Fontaine UNIT 11;Harrisburg;42893;OR;09-273-1997;673-454-4359\n",
      "\n",
      "5;Arthur;989 Bowles Avenue;Oklahoma City;70403;HI;05-136-1967;689-239-6423\n",
      "\n",
      "6;Garfield;926 East Main Street;Phoenix;57263;NM;02-54-1986;212-557-4930\n",
      "\n",
      "7;Garfield;571 Hutchinson Rd;Madison;81626;AZ;01-25-1959;509-938-9472\n",
      "\n",
      "8;Monroe;529 Pacific Hwy S;Salt Lake City;39036;SD;07-200-1977;912-743-5804\n",
      "\n",
      "9;Johnson;109 Camelback Rd;Juneau;22856;TX;01-31-1982;218-216-2876\n",
      "\n",
      "10;Polk;105 Apalachee Parkway;Harrisburg;53363;OK;01-03-1993;687-882-6953\n",
      "\n",
      "11;Truman;150 Monroe Street;Des Moines;79646;NE;05-144-1985;652-415-3417\n",
      "\n",
      "12;Fillmore;339 N Kentwood;Tallahassee;71707;TN;12-341-1988;588-300-4881\n",
      "\n",
      "13;Pierce;71 W. Russell St.;Hartford;65894;CA;03-69-1956;920-757-4843\n",
      "\n",
      "14;Tyler;916 San Luis Obispo North;Baton Rouge;4723\n"
     ]
    }
   ],
   "source": [
    "try:\n",
    "    data = play_client.get_partial_object(bucket_name, object_name, 0, 1000)\n",
    "    for d in data:\n",
    "        print(d.decode('utf-8'))\n",
    "except ResponseError as err:\n",
    "    print(err)"
   ]
  },
  {
   "cell_type": "code",
   "execution_count": 41,
   "metadata": {},
   "outputs": [
    {
     "name": "stdout",
     "output_type": "stream",
     "text": [
      "Temporary file name: /tmp/customer.csv\n",
      "{} already exists... removing it... \n",
      "/tmp/customer.csv is gone\n",
      "Object /minio/testbucket3/customer.csv successfully copied from minio to /tmp/customer.csv\n",
      "checking to see if /minio/testbucket3/customer.csv was copied correctly...\n",
      "looks good... file same size as object\n"
     ]
    }
   ],
   "source": [
    "# Get a full object and put it in a file '/tmp/<object_name>\n",
    "tmp_file_name = os.path.join(\"/tmp\", object_name)\n",
    "print(\"Temporary file name: {}\".format(tmp_file_name))\n",
    "if os.path.exists(tmp_file_name):\n",
    "    print('{} already exists... removing it... ')\n",
    "    os.remove(tmp_file_name)\n",
    "    print('{} is {}'.format(tmp_file_name, \"still there\" if os.path.exists(tmp_file_name) else \"gone\"))\n",
    "    \n",
    "try:\n",
    "    obj = play_client.fget_object(bucket_name, object_name, tmp_file_name)\n",
    "    \n",
    "    logical_object_name = os.path.join(\"/minio\", bucket_name, object_name)\n",
    "    print(\"Object {} successfully copied from minio to {}\".format(logical_object_name, tmp_file_name))\n",
    "except ResponseError as err:\n",
    "    print(err)\n",
    "    \n",
    "print('checking to see if {} was copied correctly...'.format(logical_object_name))\n",
    "if os.path.getsize(tmp_file_name) == obj.size:\n",
    "    print('looks good... file same size as object')\n",
    "else:\n",
    "    print('ooops... problme... file is NOT the same size as object!!')\n",
    "    \n",
    "    \n"
   ]
  },
  {
   "cell_type": "code",
   "execution_count": 42,
   "metadata": {},
   "outputs": [],
   "source": [
    "import sys, inspect\n",
    "clsmembers = inspect.getmembers(sys.modules['s3fs'], inspect.isclass)"
   ]
  },
  {
   "cell_type": "code",
   "execution_count": 43,
   "metadata": {},
   "outputs": [
    {
     "name": "stdout",
     "output_type": "stream",
     "text": [
      "('S3File', <class 's3fs.core.S3File'>)\n",
      "('S3FileSystem', <class 's3fs.core.S3FileSystem'>)\n"
     ]
    }
   ],
   "source": [
    "for m in inspect.getmembers(sys.modules['s3fs'], inspect.isclass):\n",
    "    print(m)"
   ]
  },
  {
   "cell_type": "code",
   "execution_count": 51,
   "metadata": {},
   "outputs": [
    {
     "ename": "KeyError",
     "evalue": "'s3fs.S3File'",
     "output_type": "error",
     "traceback": [
      "\u001b[0;31m---------------------------------------------------------------------------\u001b[0m",
      "\u001b[0;31mKeyError\u001b[0m                                  Traceback (most recent call last)",
      "\u001b[0;32m<ipython-input-51-efac04e59ec1>\u001b[0m in \u001b[0;36m<module>\u001b[0;34m\u001b[0m\n\u001b[0;32m----> 1\u001b[0;31m \u001b[0;32mfor\u001b[0m \u001b[0mm\u001b[0m \u001b[0;32min\u001b[0m \u001b[0minspect\u001b[0m\u001b[0;34m.\u001b[0m\u001b[0mgetmembers\u001b[0m\u001b[0;34m(\u001b[0m\u001b[0msys\u001b[0m\u001b[0;34m.\u001b[0m\u001b[0mmodules\u001b[0m\u001b[0;34m[\u001b[0m\u001b[0;34m's3fs.S3File'\u001b[0m\u001b[0;34m]\u001b[0m\u001b[0;34m,\u001b[0m \u001b[0minspect\u001b[0m\u001b[0;34m.\u001b[0m\u001b[0misclass\u001b[0m\u001b[0;34m)\u001b[0m\u001b[0;34m:\u001b[0m\u001b[0;34m\u001b[0m\u001b[0;34m\u001b[0m\u001b[0m\n\u001b[0m\u001b[1;32m      2\u001b[0m     \u001b[0mprint\u001b[0m\u001b[0;34m(\u001b[0m\u001b[0mm\u001b[0m\u001b[0;34m)\u001b[0m\u001b[0;34m\u001b[0m\u001b[0;34m\u001b[0m\u001b[0m\n",
      "\u001b[0;31mKeyError\u001b[0m: 's3fs.S3File'"
     ]
    }
   ],
   "source": [
    "s"
   ]
  },
  {
   "cell_type": "code",
   "execution_count": null,
   "metadata": {},
   "outputs": [],
   "source": []
  }
 ],
 "metadata": {
  "kernelspec": {
   "display_name": "Python 3",
   "language": "python",
   "name": "python3"
  },
  "language_info": {
   "codemirror_mode": {
    "name": "ipython",
    "version": 3
   },
   "file_extension": ".py",
   "mimetype": "text/x-python",
   "name": "python",
   "nbconvert_exporter": "python",
   "pygments_lexer": "ipython3",
   "version": "3.7.6"
  }
 },
 "nbformat": 4,
 "nbformat_minor": 2
}
